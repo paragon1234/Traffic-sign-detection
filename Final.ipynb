{
 "cells": [
  {
   "cell_type": "code",
   "execution_count": 4,
   "metadata": {},
   "outputs": [
    {
     "name": "stdout",
     "output_type": "stream",
     "text": [
      "Number of training examples = 34799\n",
      "Number of validation examples = 4410\n",
      "Number of testing examples = 12630\n",
      "Image data shape = (32, 32, 3)\n",
      "Number of classes = 43\n"
     ]
    },
    {
     "data": {
      "image/png": "[encoded data removed]",
      "text/plain": [
       "<matplotlib.figure.Figure at 0x6e21f0bd30>"
      ]
     },
     "metadata": {},
     "output_type": "display_data"
    },
    {
     "data": {
      "image/png": "[encoded data removed]",
      "text/plain": [
       "<matplotlib.figure.Figure at 0x6e1eca5470>"
      ]
     },
     "metadata": {},
     "output_type": "display_data"
    },
    {
     "name": "stdout",
     "output_type": "stream",
     "text": [
      "Training...\n",
      "\n",
      "EPOCH 1 ...\n",
      "Validation Accuracy = 0.881\n",
      "\n",
      "EPOCH 2 ...\n",
      "Validation Accuracy = 0.926\n",
      "\n",
      "EPOCH 3 ...\n",
      "Validation Accuracy = 0.942\n",
      "\n",
      "EPOCH 4 ...\n",
      "Validation Accuracy = 0.939\n",
      "\n",
      "EPOCH 5 ...\n",
      "Validation Accuracy = 0.945\n",
      "\n",
      "EPOCH 6 ...\n",
      "Validation Accuracy = 0.950\n",
      "\n",
      "EPOCH 7 ...\n",
      "Validation Accuracy = 0.952\n",
      "\n",
      "EPOCH 8 ...\n",
      "Validation Accuracy = 0.935\n",
      "\n",
      "EPOCH 9 ...\n",
      "Validation Accuracy = 0.946\n",
      "\n",
      "EPOCH 10 ...\n",
      "Validation Accuracy = 0.954\n",
      "\n",
      "EPOCH 11 ...\n",
      "Validation Accuracy = 0.964\n",
      "\n",
      "EPOCH 12 ...\n",
      "Validation Accuracy = 0.937\n",
      "\n",
      "EPOCH 13 ...\n",
      "Validation Accuracy = 0.960\n",
      "\n",
      "EPOCH 14 ...\n",
      "Validation Accuracy = 0.957\n",
      "\n",
      "EPOCH 15 ...\n",
      "Validation Accuracy = 0.965\n",
      "\n",
      "EPOCH 16 ...\n",
      "Validation Accuracy = 0.959\n",
      "\n",
      "EPOCH 17 ...\n",
      "Validation Accuracy = 0.965\n",
      "\n",
      "EPOCH 18 ...\n",
      "Validation Accuracy = 0.966\n",
      "\n",
      "EPOCH 19 ...\n",
      "Validation Accuracy = 0.967\n",
      "\n",
      "EPOCH 20 ...\n",
      "Validation Accuracy = 0.966\n",
      "\n",
      "EPOCH 21 ...\n",
      "Validation Accuracy = 0.967\n",
      "\n",
      "EPOCH 22 ...\n",
      "Validation Accuracy = 0.967\n",
      "\n",
      "EPOCH 23 ...\n",
      "Validation Accuracy = 0.967\n",
      "\n",
      "EPOCH 24 ...\n",
      "Validation Accuracy = 0.968\n",
      "\n",
      "EPOCH 25 ...\n",
      "Validation Accuracy = 0.968\n",
      "\n",
      "EPOCH 26 ...\n",
      "Validation Accuracy = 0.967\n",
      "\n",
      "EPOCH 27 ...\n",
      "Validation Accuracy = 0.968\n",
      "\n",
      "EPOCH 28 ...\n",
      "Validation Accuracy = 0.968\n",
      "\n",
      "EPOCH 29 ...\n",
      "Validation Accuracy = 0.968\n",
      "\n",
      "EPOCH 30 ...\n",
      "Validation Accuracy = 0.967\n",
      "\n",
      "Model saved\n",
      "INFO:tensorflow:Restoring parameters from .\\lenet\n",
      "Test Accuracy = 0.951\n"
     ]
    }
   ],
   "source": [
    "import pickle\n",
    "import csv\n",
    "import numpy as np\n",
    "import cv2\n",
    "from sklearn.utils import shuffle\n",
    "import matplotlib.pyplot as plt\n",
    "import tensorflow as tf\n",
    "from tensorflow.contrib.layers import flatten\n",
    "\n",
    "# Load pickled data\n",
    "def loadData(fileName):\n",
    "    with open(fileName, mode='rb') as f:\n",
    "        return pickle.load(f)\n",
    "\n",
    "def loadSeq(fileName):\n",
    "    seq = loadData(fileName)\n",
    "    return (seq['features'], seq['labels'])\n",
    "\n",
    "#Plot the histogram of the training, test and validation data\n",
    "def plotData(train, test, valid):\n",
    "    # data to plot\n",
    "    a = plt.hist(train, bins=n_classes, color='b', label='train')\n",
    "    b = plt.hist(test, bins=n_classes, color='g', label='test')\n",
    "    c = plt.hist(valid, bins=n_classes, color='r', label='valid')\n",
    " \n",
    "    # create plot\n",
    "    index = np.arange(n_classes)\n",
    "    bar_width = 0.7\n",
    "    plt.legend()\n",
    "    plt.figure(figsize=(12,8))\n",
    "    rects1 = plt.bar(index, a[0], bar_width,\n",
    "                 color='b',\n",
    "                 label='Train')\n",
    " \n",
    "    rects2 = plt.bar(index, b[0], bar_width,\n",
    "                 color='g',\n",
    "                 label='Test')\n",
    "\n",
    "    rects3 = plt.bar(index, c[0], bar_width,\n",
    "                 color='r',\n",
    "                 label='Valid')\n",
    " \n",
    "    plt.title(\"data Histogram\")\n",
    "    plt.xlabel(\"Classes\")\n",
    "    plt.ylabel(\"frequency\")\n",
    "    plt.legend()\n",
    "    plt.show()\n",
    "    \n",
    "#Print the stats of the test, train and valid data\n",
    "def printDataStats():\n",
    "    print(\"Number of training examples =\", n_train)\n",
    "    print(\"Number of validation examples =\", n_validation)\n",
    "    print(\"Number of testing examples =\", n_test)\n",
    "    print(\"Image data shape =\", image_shape)\n",
    "    print(\"Number of classes =\", n_classes)\n",
    "    plotData(y_train, y_test, y_valid)\n",
    "\n",
    "#Apply adaptive histogram on the image\n",
    "def applyAdaptiveHistogram(gray):\n",
    "    clahe = cv2.createCLAHE(clipLimit=2.0, tileGridSize=(8,8))\n",
    "    return clahe.apply(gray)\n",
    "\n",
    "##Pre-process the image data\n",
    "#Convert RGB image to GrayImage\n",
    "#Apply adaptive histogram and normalize data\n",
    "def preProcess(X):\n",
    "    gray_X=np.zeros(shape=(X.shape[0],32,32), dtype=np.uint8)\n",
    "    #gray_X=np.zeros(shape=(X.shape[0],32,32))\n",
    "    count = 0\n",
    "    for x in X:\n",
    "        gray_X[count] = cv2.cvtColor(x, cv2.COLOR_BGR2GRAY)\n",
    "    \n",
    "        gray_X[count] = applyAdaptiveHistogram(gray_X[count])\n",
    "        count += 1\n",
    "    assert(count == len(X))\n",
    "    gray_X1=np.zeros(shape=(X.shape[0],32,32), dtype=np.float32)\n",
    "    gray_X1 = (gray_X - 128.0)/128.0\n",
    "    return np.reshape(gray_X1, gray_X1.shape + (1,))\n",
    "\n",
    "def preProcessDataSeq(train, valid, test):\n",
    "    return (preProcess(train), preProcess(valid), preProcess(test))\n",
    "\n",
    "def conv2d(x, W, b, strides=1):\n",
    "    x = tf.nn.conv2d(x, W, strides=[1, strides, strides, 1], padding='VALID')\n",
    "    x = tf.nn.bias_add(x, b)\n",
    "    return tf.nn.relu(x)\n",
    "\n",
    "def maxpool2d(x, k=2):\n",
    "    return tf.nn.max_pool(\n",
    "        x,\n",
    "        ksize=[1, k, k, 1],\n",
    "        strides=[1, k, k, 1],\n",
    "        padding='VALID')\n",
    "\n",
    "def LeNet(x):\n",
    "    # Arguments used for tf.truncated_normal, randomly defines variables for the weights and biases for each layer\n",
    "    mu = 0\n",
    "    sigma = 0.1\n",
    "    weights = {\n",
    "    'wc1': tf.Variable(tf.truncated_normal([5, 5, 1, 12],mu,sigma)),\n",
    "    'wc2': tf.Variable(tf.truncated_normal([5, 5, 12, 30],mu,sigma)),\n",
    "    'wd1': tf.Variable(tf.truncated_normal([750, 300],mu,sigma)),\n",
    "    'out': tf.Variable(tf.truncated_normal([300, n_classes],mu,sigma))}\n",
    "\n",
    "    biases = {\n",
    "    'bc1': tf.Variable(tf.truncated_normal([12],mu,sigma)),\n",
    "    'bc2': tf.Variable(tf.truncated_normal([30],mu,sigma)),\n",
    "    'bd1': tf.Variable(tf.truncated_normal([300],mu,sigma)),\n",
    "    'out': tf.Variable(tf.truncated_normal([n_classes],mu,sigma))}\n",
    "\n",
    "    # Layer 1: Convolutional. Input = 32x32x1. Output = 28x28x12 + Activation.\n",
    "    conv1 = conv2d(x, weights['wc1'], biases['bc1'])\n",
    "    # Pooling. Input = 28x28x12. Output = 14x14x12.\n",
    "    conv1 = maxpool2d(conv1, k=2)\n",
    "\n",
    "    # Layer 2: Convolutional. Input = 14x14x12. Output = 10x10x30 + Activation.\n",
    "    conv2 = conv2d(conv1, weights['wc2'], biases['bc2'])\n",
    "    # Pooling. Input = 10x10x30. Output = 5x5x30.\n",
    "    conv2 = maxpool2d(conv2, k=2)\n",
    "\n",
    "    # Flatten. Input = 5x5x30. Output = 750.\n",
    "    fc1 = tf.reshape(conv2, [-1, weights['wd1'].get_shape().as_list()[0]])\n",
    "    #fc1 = flatten(conv2)\n",
    "    #conv1 = maxpool2d(conv1, k=4)\n",
    "    #conv2 = maxpool2d(conv1, k=2)\n",
    "    #fc1= tf.concat([flatten(conv1), flatten(conv2), flatten(conv3)], 1)\n",
    "    #fc1 = flatten(fc1)\n",
    "    \n",
    "    # Layer 3: Fully Connected. Input = 750. Output = 300 + Activation.\n",
    "    fc1 = tf.add(tf.matmul(fc1, weights['wd1']), biases['bd1'])\n",
    "    fc1 = tf.nn.relu(fc1)\n",
    "    #fc1 = tf.nn.dropout(fc1, dropout)\n",
    "\n",
    "    # Layer 4: Fully Connected. Input = 300. Output = 43 + Activation.\n",
    "    logits = tf.add(tf.matmul(fc1, weights['out']), biases['out'])    \n",
    "    return logits\n",
    "\n",
    "\n",
    "#Global Parameters\n",
    "dropout = 0.6\n",
    "rate = 0.001\n",
    "EPOCHS = 30\n",
    "BATCH_SIZE = 128\n",
    "\n",
    "\n",
    "X_train, y_train = loadSeq(\"train.p\")\n",
    "X_valid, y_valid = loadSeq(\"valid.p\")\n",
    "X_test, y_test = loadSeq(\"test.p\")\n",
    "\n",
    "n_train = X_train.shape[0] #Number of training examples\n",
    "n_validation = X_valid.shape[0] #Number of validation examples\n",
    "n_test = X_test.shape[0] #Number of testing examples.\n",
    "image_shape = X_train[0].shape #Shape of an traffic sign image\n",
    "n_classes = len(np.unique(y_train)) #number of unique labels\n",
    "printDataStats()\n",
    "\n",
    "gray_X_train, gray_X_valid, gray_X_test  = preProcessDataSeq(X_train, X_valid, X_test)\n",
    "gray_X_train, y_train = shuffle(gray_X_train, y_train)\n",
    "\n",
    "x = tf.placeholder(tf.float32, (None, 32, 32, 1))\n",
    "y = tf.placeholder(tf.int32, (None))\n",
    "one_hot_y = tf.one_hot(y, n_classes)\n",
    "\n",
    "logits = LeNet(x)\n",
    "cross_entropy = tf.nn.softmax_cross_entropy_with_logits(labels=one_hot_y, logits=logits)\n",
    "loss_operation = tf.reduce_mean(cross_entropy)\n",
    "optimizer = tf.train.AdamOptimizer(learning_rate = rate)\n",
    "training_operation = optimizer.minimize(loss_operation)\n",
    "\n",
    "correct_prediction = tf.equal(tf.argmax(logits, 1), tf.argmax(one_hot_y, 1))\n",
    "accuracy_operation = tf.reduce_mean(tf.cast(correct_prediction, tf.float32))\n",
    "saver = tf.train.Saver()\n",
    "\n",
    "def evaluate(X_data, y_data):\n",
    "    num_examples = len(X_data)\n",
    "    total_accuracy = 0\n",
    "    sess = tf.get_default_session()\n",
    "    for offset in range(0, num_examples, BATCH_SIZE):\n",
    "        batch_x, batch_y = X_data[offset:offset+BATCH_SIZE], y_data[offset:offset+BATCH_SIZE]\n",
    "        accuracy = sess.run(accuracy_operation, feed_dict={x: batch_x, y: batch_y})\n",
    "        total_accuracy += (accuracy * len(batch_x))\n",
    "    return total_accuracy / num_examples\n",
    "\n",
    "with tf.Session() as sess:\n",
    "    sess.run(tf.global_variables_initializer())    \n",
    "    print(\"Training...\")\n",
    "    print()\n",
    "    for i in range(EPOCHS):\n",
    "        gray_X_train, y_train = shuffle(gray_X_train, y_train)\n",
    "        for offset in range(0, n_train, BATCH_SIZE):\n",
    "            end = offset + BATCH_SIZE\n",
    "            batch_x, batch_y = gray_X_train[offset:end], y_train[offset:end]\n",
    "            sess.run(training_operation,feed_dict={x: batch_x, y: batch_y})\n",
    "            \n",
    "        validation_accuracy = evaluate(gray_X_valid, y_valid)\n",
    "        print(\"EPOCH {} ...\".format(i+1))\n",
    "        print(\"Validation Accuracy = {:.3f}\".format(validation_accuracy))\n",
    "        print()\n",
    "        \n",
    "    saver.save(sess, './lenet')\n",
    "    print(\"Model saved\")\n",
    "\n",
    "with tf.Session() as sess:\n",
    "    saver.restore(sess, tf.train.latest_checkpoint('.'))\n",
    "\n",
    "    test_accuracy = evaluate(gray_X_test, y_test)\n",
    "    print(\"Test Accuracy = {:.3f}\".format(test_accuracy))"
   ]
  },
  {
   "cell_type": "code",
   "execution_count": null,
   "metadata": {
    "collapsed": true
   },
   "outputs": [],
   "source": []
  },
  {
   "cell_type": "code",
   "execution_count": null,
   "metadata": {
    "collapsed": true
   },
   "outputs": [],
   "source": []
  },
  {
   "cell_type": "code",
   "execution_count": null,
   "metadata": {
    "collapsed": true
   },
   "outputs": [],
   "source": []
  },
  {
   "cell_type": "code",
   "execution_count": null,
   "metadata": {
    "collapsed": true
   },
   "outputs": [],
   "source": []
  },
  {
   "cell_type": "code",
   "execution_count": null,
   "metadata": {
    "collapsed": true
   },
   "outputs": [],
   "source": []
  },
  {
   "cell_type": "code",
   "execution_count": null,
   "metadata": {
    "collapsed": true
   },
   "outputs": [],
   "source": []
  },
  {
   "cell_type": "code",
   "execution_count": null,
   "metadata": {
    "collapsed": true
   },
   "outputs": [],
   "source": []
  },
  {
   "cell_type": "code",
   "execution_count": null,
   "metadata": {
    "collapsed": true
   },
   "outputs": [],
   "source": []
  },
  {
   "cell_type": "code",
   "execution_count": null,
   "metadata": {
    "collapsed": true
   },
   "outputs": [],
   "source": []
  },
  {
   "cell_type": "code",
   "execution_count": null,
   "metadata": {
    "collapsed": true
   },
   "outputs": [],
   "source": []
  },
  {
   "cell_type": "code",
   "execution_count": null,
   "metadata": {
    "collapsed": true
   },
   "outputs": [],
   "source": []
  },
  {
   "cell_type": "code",
   "execution_count": null,
   "metadata": {
    "collapsed": true
   },
   "outputs": [],
   "source": []
  },
  {
   "cell_type": "code",
   "execution_count": null,
   "metadata": {
    "collapsed": true
   },
   "outputs": [],
   "source": []
  },
  {
   "cell_type": "code",
   "execution_count": null,
   "metadata": {
    "collapsed": true
   },
   "outputs": [],
   "source": []
  },
  {
   "cell_type": "code",
   "execution_count": null,
   "metadata": {
    "collapsed": true
   },
   "outputs": [],
   "source": []
  },
  {
   "cell_type": "code",
   "execution_count": null,
   "metadata": {
    "collapsed": true
   },
   "outputs": [],
   "source": []
  },
  {
   "cell_type": "code",
   "execution_count": null,
   "metadata": {
    "collapsed": true
   },
   "outputs": [],
   "source": []
  },
  {
   "cell_type": "code",
   "execution_count": null,
   "metadata": {
    "collapsed": true
   },
   "outputs": [],
   "source": []
  },
  {
   "cell_type": "code",
   "execution_count": null,
   "metadata": {
    "collapsed": true
   },
   "outputs": [],
   "source": []
  },
  {
   "cell_type": "code",
   "execution_count": null,
   "metadata": {
    "collapsed": true
   },
   "outputs": [],
   "source": []
  },
  {
   "cell_type": "code",
   "execution_count": null,
   "metadata": {
    "collapsed": true
   },
   "outputs": [],
   "source": []
  }
 ],
 "metadata": {
  "kernelspec": {
   "display_name": "Python 3",
   "language": "python",
   "name": "python3"
  },
  "language_info": {
   "codemirror_mode": {
    "name": "ipython",
    "version": 3
   },
   "file_extension": ".py",
   "mimetype": "text/x-python",
   "name": "python",
   "nbconvert_exporter": "python",
   "pygments_lexer": "ipython3",
   "version": "3.5.3"
  }
 },
 "nbformat": 4,
 "nbformat_minor": 2
}
